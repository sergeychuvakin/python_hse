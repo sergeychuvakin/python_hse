{
 "cells": [
  {
   "cell_type": "markdown",
   "metadata": {},
   "source": [
    "Plan: \n",
    "- file system and python\n",
    " - cli, bash\n",
    " - os, sys\n",
    " - open, close\n",
    " - with \n",
    " - json \n",
    " - pickle (rds analogue)\n",
    "- string methods\n",
    " - base methods \n",
    " - re library \n",
    " - regex \n",
    "- pep8"
   ]
  },
  {
   "cell_type": "markdown",
   "metadata": {},
   "source": [
    "### File system and Python"
   ]
  },
  {
   "cell_type": "markdown",
   "metadata": {},
   "source": [
    "**cli** - Command line interface, иначе называют терминалом, сердце управления семейством **\\*nix** систем. Явялется полноценной алтернативой **GUI** (graphical user interface). cli позволяет пользователю получить доступ абсолютно ко все функциональности компьютера начиная от редактирования файлов заканчивая, устновкой пакетов, редакторирования самого ядра линукс, а также отключением видокарт или присодинением дополнотильных устройсв (mounting). Плюсом явялется повышенная скорость и эффективность работы и понимание системы. Как минус можно отметить выше попрог входа по сравнению с GUI. \n",
    "\n",
    "Самый популярный язык управления cli - BASH (Bourne-Again SHell) (неполноценна песочница https://www.tutorialspoint.com/unix_terminal_online.php)"
   ]
  },
  {
   "cell_type": "markdown",
   "metadata": {},
   "source": [
    "###  ls\n",
    "\n",
    "Осмотритесь, где вы, что вокруг:\n",
    "\n",
    "### pwd\n",
    "\n",
    "Потом\n",
    "\n",
    "```bash \n",
    "ls\n",
    "```\n",
    "\n",
    "Кстати, что делает ls? Можно узнать не гугля:\n",
    "```bash \n",
    "info ls\n",
    "```\n",
    "Или так [для выхода нажмите 'q']\n",
    "```bash\n",
    "man ls\n",
    "```\n",
    "Ок, мы поняли, что нам распечатывают содержимое текущей директории. Посмотрим на вывод ls с некоторым набором ключей.\n",
    "```bash\n",
    "ls -lsah\n",
    "8,0K -rw-rw-r-- 1 aam aam 4,2K окт.  16 17:00 Lesson8.ipynb\n",
    "\n",
    "r - read w - write x - executable\n",
    "```\n",
    "первая тройка -- owner permissions вторая тройка -- group permissions третья тройка -- all users permissions\n",
    "\n",
    "Разрешения меняются командой chmod при наличии у вас соответствующих прав на выдачу прав другим или себе."
   ]
  },
  {
   "cell_type": "markdown",
   "metadata": {},
   "source": [
    "\n",
    "### Работа с деревом каталогов\n",
    "\n",
    "В никсах, как и в винде, когда работаем с файловой системой из консоли, мы имеем дело с деревом каталогов. Допустим, мы сейчас находимся в каталоге /home/hello/.\n",
    "```bash \n",
    "/home/user/ -- место для хранения файлов пользователя user.\n",
    "\n",
    "Допустим, мы хотим создать папку much_dir в этой директории. Делается это командой\n",
    "\n",
    "mkdir much_dir\n",
    "\n",
    "Директория будет создана, если у вас для этого есть права как пользователя системы. Если мы хотим создать директорию в другом месте, переходить туда не обязательно, можно прописать полный путь. Хотим создать wow/ в much_dir? Можно сделать это так:\n",
    "\n",
    "mkdir much_dir/wow\n",
    "\n",
    "или прописав \"абсолютный путь\"\n",
    "\n",
    "mkdir /home/user/much_dir/wow\n",
    "\n",
    "Как переходить по дереву каталогов? С помощью команды\n",
    "\n",
    "cd your_cool_directory\n",
    "\n",
    "Ей можно также подавать на вход относительные и абсолютные пути. Когда нажимаем на Tab, получаем подсказки. Чтобы перейти в каталог уровнем выше, надо набрать\n",
    "\n",
    "cd ..\n",
    "\n",
    "Двумя --\n",
    "\n",
    "cd ../..\n",
    "\n",
    "Перейти в свою домашнюю директорию (то есть /home/user/).\n",
    "\n",
    "cd ~\n",
    "\n",
    "Обозначение для текущей директории -- просто точка.\n",
    "\n",
    ".\n",
    "\n",
    "Можно искать файлы и папки, используя команду find:\n",
    "\n",
    "find .\n",
    "\n",
    "рекурсивно обходя дерево каталогов, например, у меня будет такой вывод\n",
    "\n",
    "find .\n",
    ".\n",
    "./Lesson 8 -- *nix command line.ipynb\n",
    "./.ipynb_checkpoints\n",
    "./.ipynb_checkpoints/Lesson 8 -- *nix command line-checkpoint.ipynb\n",
    "\n",
    "Напомню, точка после find -- это просто указание текущего каталога. Можно было взять и другой. Оцените возможности find, посмотрев руководство.\n",
    "cp & mv\n",
    "Копирование и перемещение файлов и директорий\n",
    "\n",
    "Для этого есть две команды\n",
    "\n",
    "cp source destination\n",
    "\n",
    "Надо отметить, что стоит обязательно посмотреть, какие ключи есть у cp. На практике часто используется -r для рекурсивного копирования директорий со всем их содержимым.\n",
    "\n",
    "mv source destination\n",
    "\n",
    "Эта команда перемещает то, что вы ей скажете, куда вы ей прикажете. Например, можно переименовать файл README.txt, переместив его:\n",
    "\n",
    "mv README.txt readme_file.txt\n",
    "\n",
    "С помощью mv и cp можно легко затереть имеющиеся файлы, поэтому стоит отнестись к ним с особым вниманием.\n",
    "\n",
    "cp и mv умеют делать выборку файлов и папок по паттернам с использованием \"джокера\". Так, команда\n",
    "\n",
    "cp *.txt ../\n",
    "\n",
    "Перекладывает все файлы с расширением txt в каталог уровнем выше.\n",
    "echo\n",
    "\n",
    "Можно заводить и изменять переменные окружения. Например, одна из самых важных стандартных -- PATH. Это строка с директориями, в которых ОС будет искать программы для запуска при вызове их какой-либо командой.\n",
    "\n",
    "Например, мы установили скайп и пишем в терминале\n",
    "\n",
    "skype\n",
    "\n",
    "В этот момент будет осуществлён поиск программ с таким именем в заданных в PATH директориях. Как посмотреть на значение \"глобальной переменной\"?\n",
    "\n",
    "echo $PATH\n",
    "\n",
    "Но они нам сегодня не понадобятся.\n",
    "\n",
    "Весь этот разговор затеян только чтобы представить команду echo, которая выводит в консоль то, что попросят, и умеет, как мы видим в примере выше, подставлять в вывод значения переменных окружения таким нехитрым способом.\n",
    "\n",
    "Команда, которая обновит дату последнего изменения файла с заданным именем -- или создаст пустой файл, если его нет на файловой системе:\n",
    "\n",
    "touch myfile.txt\n",
    "\n",
    "Откроем созданный файл с помощью какого-нибудь редактора, например, vim. Это мощный инструмент для редактирования файлов, который любят некоторые разработчики за его команды и shortcut-ы.\n",
    "\n",
    "vim myfile.txt\n",
    "\n",
    "Напишем несколько строчек и закроем с сохранением. \"Как выйти из vim?!\"\n",
    "\n",
    "Ctrl+C, чтобы выйти из режима редактирования, затем :wq\n",
    "\n",
    "w -- write q -- quit\n",
    "\n",
    "Есть и другие редакторы. vi, emacs [ещё один своеобразный консольный редактор], nano и другие.\n",
    "\n",
    "Можем посмотреть содержимое нашего файла \"ленивым\" less. Он не пытается загрузить сразу весь файл, а будет начитывать его по мере \"продвижения\" по нему. Так вы сможете запросто просматривать огромные файлы.\n",
    "\n",
    "less myfile.txt\n",
    "\n",
    "В less также есть несколько команд, которые полезно освоить. См. самостоятельную работу ниже. Из less можно выйти, нажав на 'q'.\n",
    "\n",
    "Распечатаем содержимое файла в консоль:\n",
    "\n",
    "cat myfile.txt\n",
    "\n",
    "Что делает команда tac? Есть идеи?\n",
    "\n",
    "head и tail печатают начало и конец соответственно подаваемого им на вход потока, например, строки текстового файла. Запустим\n",
    "\n",
    "head README.txt\n",
    "head -3 README.txt\n",
    "\n",
    "tail README.txt\n",
    "tail -4 README.txt\n",
    "\n",
    "\n",
    "```"
   ]
  },
  {
   "cell_type": "markdown",
   "metadata": {},
   "source": [
    "\n",
    "### Ещё несколько команд для работы с \"процессами и ресурсами\"\n",
    "```bash\n",
    "Текущее состояние запущенных процессов в системе\n",
    "\n",
    "ps \n",
    "ps aux | grep 'jupyter'\n",
    "\n",
    "Отправка сигнала процессу\n",
    "\n",
    "kill\n",
    "\n",
    "В частности kill -9 -- SIGKILL, kill -15 -- SIGTERM.\n",
    "\n",
    "Процессы и использование ими ресурсов в реальном времени можно наблюдать и сортировать по разным параметрам с помощью\n",
    "\n",
    "top\n",
    "\n",
    "Перенаправление ввода и вывода\n",
    "\n",
    "Большинство команд Linux считывают с ввода, которым может быть файл или другой атрибут команды, и записывают в вывод. По умолчанию ввод принимается с клавиатуры, а вывод отображается на экране. Клавиатура является вашим стандартным устройством ввода (stdin), а экран или конкретное окно терминала — стандартным устройством вывода (stdout). link\n",
    "\n",
    "Так, можно записать файл\n",
    "\n",
    "echo \"Привет!\" > hi.txt\n",
    "cat myfile.txt > hello.txt\n",
    "\n",
    "Чтобы добавить новые строчки в конец, а не перезаписать полностью, можно использовать >>\n",
    "\n",
    "echo \" Пока!\" >> hi.txt\n",
    "cat hi.txt\n",
    "\n",
    "|\n",
    "\n",
    "Команды можно собирать в цепочки. Например,\n",
    "\n",
    "head -10 README.txt | less\n",
    "\n",
    "Эта команда покажет нам в открытом less первые 10 строчек файла README.txt. То есть можно считать, что результат работы одной команды подаётся на вход другой.\n",
    "grep\n",
    "\n",
    "Мощный инструмент, без которого трудно представить себе, например, анализ логов. Фильтр потока строк по заданному регулярному выражению. Случай, когда ключи имеют очень большое значение.\n",
    "\n",
    "grep <что ищем, выражение в кавычках> <где ищем>\n",
    "\n",
    "-o -- вычленяет то, что подходит под выражение\n",
    "-v -- напротив, ИГНОРИРУЕТ строки с заданным выражением\n",
    "--before-context -- ???\n",
    "--after-context -- ???\n",
    "\n",
    "Регулярным выражениям можно посвятить не одну лекцию. Это важный инструмент для всех -- от менеджеров до разработчиков веб-сервисов -- и особенно для аналитиков.\n",
    "\n",
    "    Рассказ у доски\n",
    "\n",
    "Cheat sheet всем в помощь\n",
    "seq, sort, uniq\n",
    "\n",
    "seq 10\n",
    "\n",
    "sort -- очевидно, сортирует строки ввода; -r -- в порядке убывания.\n",
    "\n",
    "seq 15 | sort -r\n",
    "\n",
    "Что наблюдаем? Ожидали ли такой результат? Попробуем так.\n",
    "\n",
    "seq 15 | sort -rn\n",
    "\n",
    "Ещё одна полезная команда, связанная с сортировкой. Запустите несколько раз.\n",
    "\n",
    "seq 10 | sort -R\n",
    "\n",
    "Часто возникает необходимость подсчитать статистику по строкам. Для этого есть команда uniq. Отработает только после сортировки строк.\n",
    "\n",
    "cat myfile.txt | sort | uniq    \n",
    "uniq -c -- выведет уникальные строки с количеством раз, которое они встретились в потоке\n",
    "\n",
    "cut\n",
    "\n",
    "Команда, вычленяющая из потока заданные вами колонки. Нужно задать несколько параметров, в том числе, как колонки отделены друг от друга. Так, в формате csv это запятые, а в tsv -- табы. Табы -- по умолчанию.\n",
    "\n",
    "cut -f 1 -d , sparse_matrix_huge.csv\n",
    "\n",
    "Как вы думаете, что делает эта команда? Проверьте себя, открыв мануал.\n",
    "sed\n",
    "не было рассказано на занятии\n",
    "\n",
    "Ещё один очень полезный инструмент, построчный редактор текста.\n",
    "\n",
    "sed -e 's/ваше регулярное выражение/на что будет заменена подходящая под него подстрока, поступившая на вход/g' \n",
    "sed -e 's/Hello\\s*/Goodbye /g'\n",
    "\n",
    "Самостоятельно (необязательное задание)\n",
    "\n",
    "Здесь также нужно хорошо разобраться, что такое -e, s, g -- и что будет, если их заменить на что-то иное.\n",
    "parallel\n",
    "не было рассказано на занятии\n",
    "\n",
    "Запускает команды параллельно (спасибо, капитан!); в эмуляторе может не быть установлен.\n",
    "\n",
    "seq 10 | parallel echo \"Processing stuff {}.csv\"\n",
    "\n"
   ]
  },
  {
   "cell_type": "markdown",
   "metadata": {},
   "source": [
    "### Установка распространённых пакетов на Ubuntu/Debian\n",
    "\n",
    "```bash\n",
    "sudo apt-get install <пакет>\n",
    "\n",
    "Примеры\n",
    "\n",
    "sudo apt-get install vim\n",
    "sudo apt-get install pip3\n",
    "\n"
   ]
  },
  {
   "cell_type": "markdown",
   "metadata": {},
   "source": [
    "### Модуль sys \n",
    "\n",
    "Важный вспомогательный модель, который помогает пользователю настроить работу интерпретатора и окружающей среды. В нем много всего, но сторит обратить внимание на следующие вещи: \n",
    "\n",
    "sys.executable - путь к интерпретатору Python <br>\n",
    "sys.getsizeof - размер объекта после чтения интерпритатором. <br>\n",
    "sys.version  - версия питона <br>\n",
    "работа с аргументами. \n",
    "\n",
    "[см. подробнее](https://pythonworld.ru/moduli/modul-sys.html)"
   ]
  },
  {
   "cell_type": "code",
   "execution_count": 8,
   "metadata": {},
   "outputs": [
    {
     "data": {
      "text/plain": [
       "'3.7.5 (default, Nov 20 2019, 09:21:52) \\n[GCC 9.2.1 20191008]'"
      ]
     },
     "execution_count": 8,
     "metadata": {},
     "output_type": "execute_result"
    }
   ],
   "source": [
    "import sys\n",
    "sys.version "
   ]
  },
  {
   "cell_type": "markdown",
   "metadata": {},
   "source": [
    "### модуль os\n",
    "\n",
    "Модуль помогает настроить работу можду питоном и bash и пр полезные вещи. \n",
    "\n",
    "[см. подробнее](https://pythonworld.ru/moduli/modul-os.html)"
   ]
  },
  {
   "cell_type": "code",
   "execution_count": 10,
   "metadata": {},
   "outputs": [
    {
     "data": {
      "text/plain": [
       "'/home/serge/Desktop/lections/python/bash, file system, regex'"
      ]
     },
     "execution_count": 10,
     "metadata": {},
     "output_type": "execute_result"
    }
   ],
   "source": [
    "import os \n",
    "os.getcwd()"
   ]
  },
  {
   "cell_type": "code",
   "execution_count": 9,
   "metadata": {},
   "outputs": [
    {
     "data": {
      "text/plain": [
       "['openme.txt', '.ipynb_checkpoints', 't.txt', 'bash_regex.ipynb']"
      ]
     },
     "execution_count": 9,
     "metadata": {},
     "output_type": "execute_result"
    }
   ],
   "source": [
    "os.listdir()"
   ]
  },
  {
   "cell_type": "code",
   "execution_count": null,
   "metadata": {},
   "outputs": [],
   "source": [
    "os.walk # special recursive generator"
   ]
  },
  {
   "cell_type": "code",
   "execution_count": null,
   "metadata": {},
   "outputs": [],
   "source": [
    "os.mkdir()\n",
    "os.remove()\n",
    "os.rename()"
   ]
  },
  {
   "cell_type": "markdown",
   "metadata": {},
   "source": [
    "```python\n",
    "os.path # пачка полезных функций при работе с файлами. \n",
    "```\n",
    "\n",
    "[см. подробнее](https://pythonworld.ru/moduli/modul-os-path.html)"
   ]
  },
  {
   "cell_type": "code",
   "execution_count": 11,
   "metadata": {},
   "outputs": [
    {
     "data": {
      "text/plain": [
       "0"
      ]
     },
     "execution_count": 11,
     "metadata": {},
     "output_type": "execute_result"
    }
   ],
   "source": [
    "os.system('pwd')  # исполнение скрипта на языке системы, при успехе возвразаетя 0"
   ]
  },
  {
   "cell_type": "code",
   "execution_count": 7,
   "metadata": {},
   "outputs": [
    {
     "name": "stdout",
     "output_type": "stream",
     "text": [
      "/home/serge/Desktop/lections/python/bash, file system, regex\n",
      "bash_regex.ipynb\n",
      "t.txt\n",
      "\n"
     ]
    }
   ],
   "source": [
    "os.system('ls >> t.txt')\n",
    "\n",
    "with open('t.txt', 'r') as f:\n",
    "    t = f.read()\n",
    "print(t)"
   ]
  },
  {
   "cell_type": "markdown",
   "metadata": {},
   "source": [
    "### Open, close, with"
   ]
  },
  {
   "cell_type": "code",
   "execution_count": 32,
   "metadata": {},
   "outputs": [],
   "source": [
    "# file opening \n",
    "f = open('openme.txt', 'r')"
   ]
  },
  {
   "cell_type": "code",
   "execution_count": 25,
   "metadata": {},
   "outputs": [
    {
     "data": {
      "text/plain": [
       "''"
      ]
     },
     "execution_count": 25,
     "metadata": {},
     "output_type": "execute_result"
    }
   ],
   "source": [
    "f.readline()\n",
    "f.read()\n",
    "f.readlines()"
   ]
  },
  {
   "cell_type": "code",
   "execution_count": 33,
   "metadata": {},
   "outputs": [],
   "source": [
    "f.close()"
   ]
  },
  {
   "cell_type": "code",
   "execution_count": null,
   "metadata": {},
   "outputs": [],
   "source": [
    "# file opening \n",
    "f = open('openme.txt', 'w')"
   ]
  },
  {
   "cell_type": "code",
   "execution_count": 34,
   "metadata": {},
   "outputs": [],
   "source": [
    "with open('openme.txt', 'r') as f:\n",
    "    t = f.read()"
   ]
  },
  {
   "cell_type": "code",
   "execution_count": 36,
   "metadata": {},
   "outputs": [
    {
     "name": "stdout",
     "output_type": "stream",
     "text": [
      "привет! \n",
      "в этом файле лежат\n",
      "несколько строк \n",
      "текста\n"
     ]
    }
   ],
   "source": [
    "print(t)"
   ]
  },
  {
   "cell_type": "markdown",
   "metadata": {},
   "source": [
    "#### class representation"
   ]
  },
  {
   "cell_type": "code",
   "execution_count": 38,
   "metadata": {},
   "outputs": [],
   "source": [
    "class Connection: \n",
    "    def __init__(self):\n",
    "        pass\n",
    "    def __enter__(self):\n",
    "        # инициализация соединения\n",
    "        pass \n",
    "    def __exit__(self, type, value, traceback):\n",
    "        # прекращаем соединение\n",
    "        pass \n",
    "with Connection() as c:\n",
    "    pass"
   ]
  },
  {
   "cell_type": "markdown",
   "metadata": {},
   "source": [
    "### Json"
   ]
  },
  {
   "cell_type": "code",
   "execution_count": 39,
   "metadata": {},
   "outputs": [],
   "source": [
    "import json # dump, load"
   ]
  },
  {
   "cell_type": "code",
   "execution_count": 40,
   "metadata": {},
   "outputs": [],
   "source": [
    "with open('ex.json') as f:\n",
    "    j = json.load(f)"
   ]
  },
  {
   "cell_type": "code",
   "execution_count": 43,
   "metadata": {},
   "outputs": [],
   "source": [
    "new_j = [{'a':1}, {'b':2}]"
   ]
  },
  {
   "cell_type": "code",
   "execution_count": 44,
   "metadata": {},
   "outputs": [],
   "source": [
    "with open('new.json', 'w') as f:\n",
    "    json.dump(new_j, f)"
   ]
  },
  {
   "cell_type": "markdown",
   "metadata": {},
   "source": [
    "### Pickle\n",
    "\n",
    "сериализация объектов питон"
   ]
  },
  {
   "cell_type": "code",
   "execution_count": 45,
   "metadata": {},
   "outputs": [],
   "source": [
    "import pandas as pd \n",
    "df = pd.DataFrame({\"a\":[1,2,3], 'b':[4,5,6]})"
   ]
  },
  {
   "cell_type": "code",
   "execution_count": 46,
   "metadata": {},
   "outputs": [
    {
     "data": {
      "text/html": [
       "<div>\n",
       "<style scoped>\n",
       "    .dataframe tbody tr th:only-of-type {\n",
       "        vertical-align: middle;\n",
       "    }\n",
       "\n",
       "    .dataframe tbody tr th {\n",
       "        vertical-align: top;\n",
       "    }\n",
       "\n",
       "    .dataframe thead th {\n",
       "        text-align: right;\n",
       "    }\n",
       "</style>\n",
       "<table border=\"1\" class=\"dataframe\">\n",
       "  <thead>\n",
       "    <tr style=\"text-align: right;\">\n",
       "      <th></th>\n",
       "      <th>a</th>\n",
       "      <th>b</th>\n",
       "    </tr>\n",
       "  </thead>\n",
       "  <tbody>\n",
       "    <tr>\n",
       "      <th>0</th>\n",
       "      <td>1</td>\n",
       "      <td>4</td>\n",
       "    </tr>\n",
       "    <tr>\n",
       "      <th>1</th>\n",
       "      <td>2</td>\n",
       "      <td>5</td>\n",
       "    </tr>\n",
       "    <tr>\n",
       "      <th>2</th>\n",
       "      <td>3</td>\n",
       "      <td>6</td>\n",
       "    </tr>\n",
       "  </tbody>\n",
       "</table>\n",
       "</div>"
      ],
      "text/plain": [
       "   a  b\n",
       "0  1  4\n",
       "1  2  5\n",
       "2  3  6"
      ]
     },
     "execution_count": 46,
     "metadata": {},
     "output_type": "execute_result"
    }
   ],
   "source": [
    "df"
   ]
  },
  {
   "cell_type": "code",
   "execution_count": 47,
   "metadata": {},
   "outputs": [],
   "source": [
    "import pickle\n",
    "with open('df.pickle', 'wb') as f:\n",
    "    pickle.dump(df, f)"
   ]
  },
  {
   "cell_type": "code",
   "execution_count": 48,
   "metadata": {},
   "outputs": [],
   "source": [
    "with open('df.pickle', 'rb') as f:\n",
    "    df2 = pickle.load(f)"
   ]
  },
  {
   "cell_type": "code",
   "execution_count": 49,
   "metadata": {},
   "outputs": [
    {
     "data": {
      "text/html": [
       "<div>\n",
       "<style scoped>\n",
       "    .dataframe tbody tr th:only-of-type {\n",
       "        vertical-align: middle;\n",
       "    }\n",
       "\n",
       "    .dataframe tbody tr th {\n",
       "        vertical-align: top;\n",
       "    }\n",
       "\n",
       "    .dataframe thead th {\n",
       "        text-align: right;\n",
       "    }\n",
       "</style>\n",
       "<table border=\"1\" class=\"dataframe\">\n",
       "  <thead>\n",
       "    <tr style=\"text-align: right;\">\n",
       "      <th></th>\n",
       "      <th>a</th>\n",
       "      <th>b</th>\n",
       "    </tr>\n",
       "  </thead>\n",
       "  <tbody>\n",
       "    <tr>\n",
       "      <th>0</th>\n",
       "      <td>1</td>\n",
       "      <td>4</td>\n",
       "    </tr>\n",
       "    <tr>\n",
       "      <th>1</th>\n",
       "      <td>2</td>\n",
       "      <td>5</td>\n",
       "    </tr>\n",
       "    <tr>\n",
       "      <th>2</th>\n",
       "      <td>3</td>\n",
       "      <td>6</td>\n",
       "    </tr>\n",
       "  </tbody>\n",
       "</table>\n",
       "</div>"
      ],
      "text/plain": [
       "   a  b\n",
       "0  1  4\n",
       "1  2  5\n",
       "2  3  6"
      ]
     },
     "execution_count": 49,
     "metadata": {},
     "output_type": "execute_result"
    }
   ],
   "source": [
    "df2"
   ]
  },
  {
   "cell_type": "markdown",
   "metadata": {},
   "source": [
    "### Python and str\n",
    "\n",
    "[check yourself](https://www.programiz.com/python-programming/methods/string)\n",
    "\n",
    "- slicing\n",
    "- listing\n",
    "- [::-1]\n",
    "- join\n",
    "- split\n",
    "- lower\n",
    "- upper\n",
    "- count\n",
    "- startswith\n",
    "- edswith\n",
    "- formating\n",
    "- strip (l, r)\n",
    "- encoding/decode\n",
    "- u, r, b, f\n",
    "\n"
   ]
  },
  {
   "cell_type": "markdown",
   "metadata": {},
   "source": [
    "### Regex\n",
    "Regular expressions - способ посика закономероностей в тексте при помощи шаблонов. По сути это способ задания шаблонов. \n",
    "\n",
    "[хорошая песочница](https://regexr.com/) но стоить держать в голове то, что модуль в питоне имеет свое поведение, и нужно всегда вносить даже незначительные корректировки в код."
   ]
  },
  {
   "cell_type": "markdown",
   "metadata": {},
   "source": [
    "## re\n",
    "встроенные модуль для работы с регулярными выражениями. Для нас интересны следующие методы: \n",
    "\n",
    "- findall - находит все совпадения в тексте \n",
    "- match - проверяет подходит ли строка с начала \n",
    "- search - проверяет подходит ли строка, \n",
    "- sub"
   ]
  },
  {
   "cell_type": "code",
   "execution_count": 50,
   "metadata": {},
   "outputs": [],
   "source": [
    "s = 'i love python'"
   ]
  },
  {
   "cell_type": "code",
   "execution_count": 52,
   "metadata": {},
   "outputs": [
    {
     "data": {
      "text/plain": [
       "<re.Match object; span=(2, 6), match='love'>"
      ]
     },
     "execution_count": 52,
     "metadata": {},
     "output_type": "execute_result"
    }
   ],
   "source": [
    "import re \n",
    "\n",
    "re.search(r'love', s)"
   ]
  },
  {
   "cell_type": "code",
   "execution_count": 53,
   "metadata": {},
   "outputs": [
    {
     "data": {
      "text/plain": [
       "['love']"
      ]
     },
     "execution_count": 53,
     "metadata": {},
     "output_type": "execute_result"
    }
   ],
   "source": [
    "re.findall(r'love', s)"
   ]
  },
  {
   "cell_type": "code",
   "execution_count": 54,
   "metadata": {},
   "outputs": [
    {
     "data": {
      "text/plain": [
       "<re.Match object; span=(0, 1), match='i'>"
      ]
     },
     "execution_count": 54,
     "metadata": {},
     "output_type": "execute_result"
    }
   ],
   "source": [
    "re.match(r'i', s)"
   ]
  },
  {
   "cell_type": "code",
   "execution_count": 55,
   "metadata": {},
   "outputs": [
    {
     "data": {
      "text/plain": [
       "'i love python'"
      ]
     },
     "execution_count": 55,
     "metadata": {},
     "output_type": "execute_result"
    }
   ],
   "source": [
    "re.sub(r'hate', 'love', 'i hate python')"
   ]
  },
  {
   "cell_type": "markdown",
   "metadata": {},
   "source": [
    "#### Специальные операторы\n",
    "- [] все что внутри будет счиатно как или-или\n",
    "- () группировка\n",
    "- если группа не нужна, то внутри вначале ставим :?\n",
    "- мета-символы\n",
    "- кватификаторы\n",
    "- жадность"
   ]
  },
  {
   "cell_type": "markdown",
   "metadata": {},
   "source": [
    "![dd](cheats.png)"
   ]
  },
  {
   "cell_type": "markdown",
   "metadata": {},
   "source": [
    "## [PEP8](https://www.python.org/dev/peps/pep-0008/) "
   ]
  },
  {
   "cell_type": "markdown",
   "metadata": {},
   "source": [
    "Problem\n",
    "\n",
    "1) ОДНОЙ СТРОКОЙ В КОНСОЛИ создайте текстовый файл со строчкой \"Hello HSE!\" и запишите его в файл hse.txt <br>\n",
    "2) ОДНОЙ СТРОКОЙ В КОНСОЛИ распечатайте строки разреженной матрицы -- с пятой по седьмую, используя только head и tail <br>\n",
    "3) Выведите ненулевые элементы какой-нибудь строки <br>\n",
    "4) Для 10-го столбца разреженной матрицы вывести все ненулевые элементы и сколько их встретилось. <br>\n",
    "5) В том числе с помощью grep выясните, сколько взаписи матрицы строк с цифрой 3 "
   ]
  }
 ],
 "metadata": {
  "kernelspec": {
   "display_name": "Python 3",
   "language": "python",
   "name": "python3"
  },
  "language_info": {
   "codemirror_mode": {
    "name": "ipython",
    "version": 3
   },
   "file_extension": ".py",
   "mimetype": "text/x-python",
   "name": "python",
   "nbconvert_exporter": "python",
   "pygments_lexer": "ipython3",
   "version": "3.7.5"
  }
 },
 "nbformat": 4,
 "nbformat_minor": 4
}
