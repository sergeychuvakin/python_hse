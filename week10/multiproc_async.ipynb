{
 "cells": [
  {
   "cell_type": "markdown",
   "metadata": {},
   "source": [
    "### PLAN\n",
    "- GIL\n",
    "- threading\n",
    "- multiprocessing\n",
    "- async"
   ]
  },
  {
   "cell_type": "markdown",
   "metadata": {},
   "source": [
    "### Main problem: \n",
    "string normalization work takes a lot of time!"
   ]
  },
  {
   "cell_type": "code",
   "execution_count": 130,
   "metadata": {},
   "outputs": [],
   "source": [
    "import re\n",
    "import pymorphy2\n",
    "import pandas as pd\n",
    "morph = pymorphy2.MorphAnalyzer()\n",
    "df = pd.read_excel('saratovsk_v1.xls')\n",
    "\n",
    "def norm(s):\n",
    "    morph = pymorphy2.MorphAnalyzer()\n",
    "    s = re.sub(r'[\\d\\$\\%\\#\\@\\№\\^&\\*]', '', s)\n",
    "    \n",
    "    return ' '.join([morph.parse(i)[0].normal_form for i in s.split(' ')])\n",
    "# df['fullName_norm'] = df['fullName'].apply(norm) ### HERE!!!!"
   ]
  },
  {
   "cell_type": "code",
   "execution_count": 12,
   "metadata": {},
   "outputs": [
    {
     "data": {
      "text/html": [
       "<div>\n",
       "<style scoped>\n",
       "    .dataframe tbody tr th:only-of-type {\n",
       "        vertical-align: middle;\n",
       "    }\n",
       "\n",
       "    .dataframe tbody tr th {\n",
       "        vertical-align: top;\n",
       "    }\n",
       "\n",
       "    .dataframe thead th {\n",
       "        text-align: right;\n",
       "    }\n",
       "</style>\n",
       "<table border=\"1\" class=\"dataframe\">\n",
       "  <thead>\n",
       "    <tr style=\"text-align: right;\">\n",
       "      <th></th>\n",
       "      <th>inn</th>\n",
       "      <th>fullName</th>\n",
       "      <th>opfType</th>\n",
       "      <th>foundersType</th>\n",
       "      <th>allOkveds</th>\n",
       "      <th>regionName</th>\n",
       "      <th>egrulStatus</th>\n",
       "      <th>okveds_num</th>\n",
       "    </tr>\n",
       "  </thead>\n",
       "  <tbody>\n",
       "    <tr>\n",
       "      <th>0</th>\n",
       "      <td>6.451901e+09</td>\n",
       "      <td>КООПЕРАТИВ №2 ПО СТРОИТЕЛЬСТВУ ЭКСПЛУАТАЦИИ КО...</td>\n",
       "      <td>Кооперативы и товарищества</td>\n",
       "      <td>Только физлица</td>\n",
       "      <td>52.21.24 Деятельность стоянок для транспортных...</td>\n",
       "      <td>Саратовская область</td>\n",
       "      <td>Действует</td>\n",
       "      <td>1.0</td>\n",
       "    </tr>\n",
       "    <tr>\n",
       "      <th>1</th>\n",
       "      <td>6.439071e+09</td>\n",
       "      <td>САДОВОДЧЕСКОЕ ТОВАРИЩЕСТВО \"ЗОЛОТЫЕ ПЕСКИ\"</td>\n",
       "      <td>Кооперативы и товарищества</td>\n",
       "      <td>Только физлица</td>\n",
       "      <td>01.12 Овощеводство; декоративное садоводство и...</td>\n",
       "      <td>Саратовская область</td>\n",
       "      <td>Ликвидирована</td>\n",
       "      <td>4.0</td>\n",
       "    </tr>\n",
       "    <tr>\n",
       "      <th>2</th>\n",
       "      <td>6.454030e+09</td>\n",
       "      <td>САРАТОВСКАЯ ОБЩЕСТВЕННАЯ ОРГАНИЗАЦИЯ ЦЕНТР ТВО...</td>\n",
       "      <td>Общественные организации</td>\n",
       "      <td>NaN</td>\n",
       "      <td>NaN</td>\n",
       "      <td>Саратовская область</td>\n",
       "      <td>Ликвидирована</td>\n",
       "      <td>NaN</td>\n",
       "    </tr>\n",
       "    <tr>\n",
       "      <th>3</th>\n",
       "      <td>6.450061e+09</td>\n",
       "      <td>САРАТОВСКОЕ РЕГИОНАЛЬНОЕ ОБЩЕСТВЕННОЕ ДВИЖЕНИЕ...</td>\n",
       "      <td>Общественные организации</td>\n",
       "      <td>NaN</td>\n",
       "      <td>NaN</td>\n",
       "      <td>Саратовская область</td>\n",
       "      <td>Ликвидирована</td>\n",
       "      <td>NaN</td>\n",
       "    </tr>\n",
       "    <tr>\n",
       "      <th>4</th>\n",
       "      <td>6.454093e+09</td>\n",
       "      <td>БЛАГОТВОРИТЕЛЬНЫЙ ФОНД \"БОГАТСТВО ОТЧИЗНЫ\"</td>\n",
       "      <td>Фонды</td>\n",
       "      <td>Только юрлица</td>\n",
       "      <td>64.99 Предоставление прочих финансовых услуг, ...</td>\n",
       "      <td>Саратовская область</td>\n",
       "      <td>Ликвидирована</td>\n",
       "      <td>1.0</td>\n",
       "    </tr>\n",
       "  </tbody>\n",
       "</table>\n",
       "</div>"
      ],
      "text/plain": [
       "            inn                                           fullName  \\\n",
       "0  6.451901e+09  КООПЕРАТИВ №2 ПО СТРОИТЕЛЬСТВУ ЭКСПЛУАТАЦИИ КО...   \n",
       "1  6.439071e+09         САДОВОДЧЕСКОЕ ТОВАРИЩЕСТВО \"ЗОЛОТЫЕ ПЕСКИ\"   \n",
       "2  6.454030e+09  САРАТОВСКАЯ ОБЩЕСТВЕННАЯ ОРГАНИЗАЦИЯ ЦЕНТР ТВО...   \n",
       "3  6.450061e+09  САРАТОВСКОЕ РЕГИОНАЛЬНОЕ ОБЩЕСТВЕННОЕ ДВИЖЕНИЕ...   \n",
       "4  6.454093e+09         БЛАГОТВОРИТЕЛЬНЫЙ ФОНД \"БОГАТСТВО ОТЧИЗНЫ\"   \n",
       "\n",
       "                      opfType    foundersType  \\\n",
       "0  Кооперативы и товарищества  Только физлица   \n",
       "1  Кооперативы и товарищества  Только физлица   \n",
       "2    Общественные организации             NaN   \n",
       "3    Общественные организации             NaN   \n",
       "4                       Фонды   Только юрлица   \n",
       "\n",
       "                                           allOkveds           regionName  \\\n",
       "0  52.21.24 Деятельность стоянок для транспортных...  Саратовская область   \n",
       "1  01.12 Овощеводство; декоративное садоводство и...  Саратовская область   \n",
       "2                                                NaN  Саратовская область   \n",
       "3                                                NaN  Саратовская область   \n",
       "4  64.99 Предоставление прочих финансовых услуг, ...  Саратовская область   \n",
       "\n",
       "     egrulStatus  okveds_num  \n",
       "0      Действует         1.0  \n",
       "1  Ликвидирована         4.0  \n",
       "2  Ликвидирована         NaN  \n",
       "3  Ликвидирована         NaN  \n",
       "4  Ликвидирована         1.0  "
      ]
     },
     "execution_count": 12,
     "metadata": {},
     "output_type": "execute_result"
    }
   ],
   "source": [
    "df.head()"
   ]
  },
  {
   "cell_type": "code",
   "execution_count": 77,
   "metadata": {},
   "outputs": [],
   "source": [
    "from multiprocessing import cpu_count, Process, Pool, Queue, current_process"
   ]
  },
  {
   "cell_type": "code",
   "execution_count": 2,
   "metadata": {},
   "outputs": [
    {
     "data": {
      "text/plain": [
       "6"
      ]
     },
     "execution_count": 2,
     "metadata": {},
     "output_type": "execute_result"
    }
   ],
   "source": [
    "cpu_count()"
   ]
  },
  {
   "cell_type": "markdown",
   "metadata": {},
   "source": [
    "## Process"
   ]
  },
  {
   "cell_type": "code",
   "execution_count": 32,
   "metadata": {},
   "outputs": [],
   "source": [
    "def print_func(continent='Asia'):\n",
    "    print('The name of continent is : ', continent)"
   ]
  },
  {
   "cell_type": "code",
   "execution_count": 62,
   "metadata": {},
   "outputs": [],
   "source": [
    "p1 = Process(target=print_func, args=('Сережа',))\n",
    "#p1 = Process(print_func('Сережа'))"
   ]
  },
  {
   "cell_type": "code",
   "execution_count": 63,
   "metadata": {},
   "outputs": [
    {
     "name": "stdout",
     "output_type": "stream",
     "text": [
      "The name of continent is :  Сережа\n"
     ]
    }
   ],
   "source": [
    "p1.start()"
   ]
  },
  {
   "cell_type": "code",
   "execution_count": 64,
   "metadata": {},
   "outputs": [],
   "source": [
    "p1.join()"
   ]
  },
  {
   "cell_type": "code",
   "execution_count": 44,
   "metadata": {},
   "outputs": [
    {
     "name": "stdout",
     "output_type": "stream",
     "text": [
      "The name of continent is :  America\n",
      "The name of continent is :  Europe\n",
      "The name of continent is :  Africa\n"
     ]
    }
   ],
   "source": [
    "for name in  ['America', 'Europe', 'Africa']:\n",
    "    procs = []\n",
    "    proc = Process(target=print_func, args=(name,))  # instantiating without any argument\n",
    "    procs.append(proc)\n",
    "    proc.start()"
   ]
  },
  {
   "cell_type": "code",
   "execution_count": 54,
   "metadata": {},
   "outputs": [],
   "source": [
    "for i in procs:\n",
    "    i.join()"
   ]
  },
  {
   "cell_type": "markdown",
   "metadata": {},
   "source": [
    "## Queue"
   ]
  },
  {
   "cell_type": "code",
   "execution_count": 69,
   "metadata": {},
   "outputs": [],
   "source": [
    "colors = ['red', 'green', 'blue', 'black']\n",
    "cnt = 1\n",
    "# instantiating a queue object\n",
    "queue = Queue()"
   ]
  },
  {
   "cell_type": "code",
   "execution_count": 70,
   "metadata": {},
   "outputs": [
    {
     "name": "stdout",
     "output_type": "stream",
     "text": [
      "item no:  1   red\n",
      "item no:  2   green\n",
      "item no:  3   blue\n",
      "item no:  4   black\n"
     ]
    }
   ],
   "source": [
    "for color in colors:\n",
    "    print('item no: ', cnt, ' ', color)\n",
    "    queue.put(color)\n",
    "    cnt += 1"
   ]
  },
  {
   "cell_type": "code",
   "execution_count": 71,
   "metadata": {},
   "outputs": [
    {
     "data": {
      "text/plain": [
       "4"
      ]
     },
     "execution_count": 71,
     "metadata": {},
     "output_type": "execute_result"
    }
   ],
   "source": [
    "queue.qsize()"
   ]
  },
  {
   "cell_type": "code",
   "execution_count": 72,
   "metadata": {},
   "outputs": [
    {
     "data": {
      "text/plain": [
       "False"
      ]
     },
     "execution_count": 72,
     "metadata": {},
     "output_type": "execute_result"
    }
   ],
   "source": [
    "queue.empty()"
   ]
  },
  {
   "cell_type": "code",
   "execution_count": 73,
   "metadata": {},
   "outputs": [
    {
     "name": "stdout",
     "output_type": "stream",
     "text": [
      "item no:  0   red\n",
      "item no:  1   green\n",
      "item no:  2   blue\n",
      "item no:  3   black\n"
     ]
    }
   ],
   "source": [
    "cnt = 0\n",
    "while not queue.empty():\n",
    "    print('item no: ', cnt, ' ', queue.get())\n",
    "    cnt += 1"
   ]
  },
  {
   "cell_type": "code",
   "execution_count": 116,
   "metadata": {},
   "outputs": [],
   "source": [
    "def print_func(tasks_to_accomplish, tasks_that_are_done):\n",
    "    try:\n",
    "        task = tasks_to_accomplish.get_nowait()\n",
    "    \n",
    "        print('The name of continent is : ', task)\n",
    "    except queue.Empty:\n",
    "        print(\"РАБОТЫ БОЛЬШЕ НЕТ\") \n",
    "    else:    \n",
    "        tasks_that_are_done.put(task + ' is done by ' + current_process().name)\n",
    "    \n",
    "tasks_to_accomplish = Queue()\n",
    "tasks_that_are_done = Queue()\n",
    "\n",
    "names = ['America', 'Europe', 'Africa', 'Name1', 'Name2','Name3','Name4','Name5','Name6','Name7','Name8','Name9','Name10']\n",
    "\n",
    "number_of_task = len(names)\n",
    "number_of_processes = 4\n",
    "\n",
    "processes = []"
   ]
  },
  {
   "cell_type": "code",
   "execution_count": 117,
   "metadata": {},
   "outputs": [],
   "source": [
    "for i in names:\n",
    "    tasks_to_accomplish.put(i)"
   ]
  },
  {
   "cell_type": "code",
   "execution_count": 118,
   "metadata": {},
   "outputs": [
    {
     "name": "stdout",
     "output_type": "stream",
     "text": [
      "The name of continent is :  America\n",
      "The name of continent is :  Europe\n",
      "The name of continent is :  Africa\n",
      "The name of continent is :  Name1\n",
      "The name of continent is :  Name2\n",
      "The name of continent is :  Name3\n",
      "The name of continent is :  Name4\n",
      "The name of continent is :  Name5\n",
      "The name of continent is :  Name6\n",
      "The name of continent is :  Name7\n",
      "The name of continent is :  Name8\n",
      "The name of continent is :  Name9\n",
      "The name of continent is :  Name10\n",
      "РАБОТЫ БОЛЬШЕ НЕТ\n",
      "РАБОТЫ БОЛЬШЕ НЕТ\n",
      "РАБОТЫ БОЛЬШЕ НЕТ\n"
     ]
    }
   ],
   "source": [
    "while not tasks_to_accomplish.empty():\n",
    "    for w in range(number_of_processes):\n",
    "        p = Process(target=print_func, args=(tasks_to_accomplish, tasks_that_are_done))\n",
    "        processes.append(p)\n",
    "        p.start()"
   ]
  },
  {
   "cell_type": "code",
   "execution_count": 119,
   "metadata": {},
   "outputs": [],
   "source": [
    "for p in processes:\n",
    "    p.join()"
   ]
  },
  {
   "cell_type": "code",
   "execution_count": 120,
   "metadata": {},
   "outputs": [
    {
     "name": "stdout",
     "output_type": "stream",
     "text": [
      "America is done by Process-136\n",
      "Europe is done by Process-137\n",
      "Africa is done by Process-138\n",
      "Name1 is done by Process-139\n",
      "Name2 is done by Process-140\n",
      "Name3 is done by Process-141\n",
      "Name4 is done by Process-142\n",
      "Name5 is done by Process-143\n",
      "Name6 is done by Process-144\n",
      "Name7 is done by Process-145\n",
      "Name8 is done by Process-146\n",
      "Name9 is done by Process-147\n",
      "Name10 is done by Process-148\n"
     ]
    }
   ],
   "source": [
    "while not tasks_that_are_done.empty():\n",
    "    print(tasks_that_are_done.get())"
   ]
  },
  {
   "cell_type": "markdown",
   "metadata": {},
   "source": [
    "### ИТОГ:\n",
    "\n",
    "сложно и опасно "
   ]
  },
  {
   "cell_type": "markdown",
   "metadata": {},
   "source": [
    "### POOL\n",
    "\n",
    "легко и безопасно"
   ]
  },
  {
   "cell_type": "code",
   "execution_count": 121,
   "metadata": {},
   "outputs": [],
   "source": [
    "import time "
   ]
  },
  {
   "cell_type": "code",
   "execution_count": 132,
   "metadata": {},
   "outputs": [
    {
     "name": "stdout",
     "output_type": "stream",
     "text": [
      "execution time:  37.22282600402832\n"
     ]
    },
    {
     "name": "stderr",
     "output_type": "stream",
     "text": [
      "/mnt/c/Users/sergey.chuvakin/Desktop/env2/lib/python3.7/site-packages/ipykernel_launcher.py:3: SettingWithCopyWarning: \n",
      "A value is trying to be set on a copy of a slice from a DataFrame.\n",
      "Try using .loc[row_indexer,col_indexer] = value instead\n",
      "\n",
      "See the caveats in the documentation: http://pandas.pydata.org/pandas-docs/stable/user_guide/indexing.html#returning-a-view-versus-a-copy\n",
      "  This is separate from the ipykernel package so we can avoid doing imports until\n"
     ]
    }
   ],
   "source": [
    "## baseline\n",
    "start = time.time()\n",
    "df2 = df.iloc[:1000,]\n",
    "df2['fullName_norm'] = df2['fullName'].apply(norm)\n",
    "print('execution time: ', time.time()-start)"
   ]
  },
  {
   "cell_type": "code",
   "execution_count": 134,
   "metadata": {},
   "outputs": [
    {
     "name": "stdout",
     "output_type": "stream",
     "text": [
      "execution time:  13.593991756439209\n"
     ]
    },
    {
     "name": "stderr",
     "output_type": "stream",
     "text": [
      "/mnt/c/Users/sergey.chuvakin/Desktop/env2/lib/python3.7/site-packages/ipykernel_launcher.py:3: SettingWithCopyWarning: \n",
      "A value is trying to be set on a copy of a slice from a DataFrame.\n",
      "Try using .loc[row_indexer,col_indexer] = value instead\n",
      "\n",
      "See the caveats in the documentation: http://pandas.pydata.org/pandas-docs/stable/user_guide/indexing.html#returning-a-view-versus-a-copy\n",
      "  This is separate from the ipykernel package so we can avoid doing imports until\n"
     ]
    }
   ],
   "source": [
    "start = time.time()\n",
    "p = Pool(cpu_count()-1)\n",
    "df2['fullName_norm'] = p.map(norm, df2['fullName'])\n",
    "print('execution time: ', time.time()-start)\n",
    "p.close()\n",
    "p.join()\n"
   ]
  },
  {
   "cell_type": "code",
   "execution_count": 137,
   "metadata": {},
   "outputs": [
    {
     "name": "stdout",
     "output_type": "stream",
     "text": [
      "execution time:  14.549742937088013\n"
     ]
    },
    {
     "name": "stderr",
     "output_type": "stream",
     "text": [
      "/mnt/c/Users/sergey.chuvakin/Desktop/env2/lib/python3.7/site-packages/ipykernel_launcher.py:3: SettingWithCopyWarning: \n",
      "A value is trying to be set on a copy of a slice from a DataFrame.\n",
      "Try using .loc[row_indexer,col_indexer] = value instead\n",
      "\n",
      "See the caveats in the documentation: http://pandas.pydata.org/pandas-docs/stable/user_guide/indexing.html#returning-a-view-versus-a-copy\n",
      "  This is separate from the ipykernel package so we can avoid doing imports until\n"
     ]
    }
   ],
   "source": [
    "with Pool(cpu_count()-1) as pool:\n",
    "    start = time.time()\n",
    "    df2['fullName_norm'] = pool.map(norm, df2['fullName'])\n",
    "    print('execution time: ', time.time()-start)"
   ]
  },
  {
   "cell_type": "markdown",
   "metadata": {},
   "source": [
    "### ASYNC\n",
    "- корутины\n",
    "- цикл событий \n",
    "- оператор await "
   ]
  },
  {
   "cell_type": "code",
   "execution_count": 138,
   "metadata": {},
   "outputs": [],
   "source": [
    "import asyncio"
   ]
  },
  {
   "cell_type": "code",
   "execution_count": 145,
   "metadata": {},
   "outputs": [],
   "source": [
    "async def foo(name):\n",
    "    await asyncio.sleep(1) \n",
    "    print('привет', name)"
   ]
  },
  {
   "cell_type": "code",
   "execution_count": 146,
   "metadata": {},
   "outputs": [
    {
     "name": "stdout",
     "output_type": "stream",
     "text": [
      "привет Сережа\n"
     ]
    }
   ],
   "source": [
    "# asyncio.run(foo) # не работает в jupyter\n",
    "await foo('Сережа')"
   ]
  },
  {
   "cell_type": "code",
   "execution_count": 149,
   "metadata": {},
   "outputs": [
    {
     "name": "stdout",
     "output_type": "stream",
     "text": [
      "привет Сережа\n"
     ]
    }
   ],
   "source": [
    "# nested \n",
    "async def boo(name='Сережа'): \n",
    "    print('привет', name)\n",
    "async def main():\n",
    "    await boo()\n",
    "    \n",
    "await main()"
   ]
  },
  {
   "cell_type": "code",
   "execution_count": 150,
   "metadata": {},
   "outputs": [
    {
     "name": "stdout",
     "output_type": "stream",
     "text": [
      "привет Сережа\n",
      "пока Сережа\n"
     ]
    }
   ],
   "source": [
    "# tasks \n",
    "async def boo(name='Сережа'): \n",
    "    print('привет', name)\n",
    "async def foo(name='Сережа'):\n",
    "    print('пока', name)\n",
    "async def main():\n",
    "    task1 = asyncio.create_task(boo())\n",
    "    task2 = asyncio.create_task(foo())\n",
    "    tasks = [task1, task2]\n",
    "    await asyncio.gather(*tasks) # если функция должна что то возвращать, то необходимо добавить return\n",
    "await main()"
   ]
  },
  {
   "cell_type": "markdown",
   "metadata": {},
   "source": [
    "Problem: \n",
    "- читаем https://docs.aiohttp.org/en/stable/ \n",
    "- пишем ассинхронную функцию для запроса сюда http://myip.ru/index_small.php \n",
    "- сравните скорость 100 запросов, без ассинзхронности и с нею \n",
    "\n",
    "Problem: \n",
    "- читаем и пробуем у себя https://geekbrains.ru/posts/python_threading_part1"
   ]
  }
 ],
 "metadata": {
  "kernelspec": {
   "display_name": "Python 3",
   "language": "python",
   "name": "python3"
  },
  "language_info": {
   "codemirror_mode": {
    "name": "ipython",
    "version": 3
   },
   "file_extension": ".py",
   "mimetype": "text/x-python",
   "name": "python",
   "nbconvert_exporter": "python",
   "pygments_lexer": "ipython3",
   "version": "3.7.5"
  }
 },
 "nbformat": 4,
 "nbformat_minor": 4
}
