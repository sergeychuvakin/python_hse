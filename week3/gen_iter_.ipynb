{
 "cells": [
  {
   "cell_type": "markdown",
   "metadata": {},
   "source": [
    "PLAN:\n",
    "- итераторы\n",
    "- генераторы \n",
    "- оператор yeild\n",
    "- декораторы, язык декораторов\n",
    "- исключения\n",
    "- Exception object\n",
    "- try \\ except\n",
    "- специальные функции exec \\ eval "
   ]
  },
  {
   "cell_type": "markdown",
   "metadata": {},
   "source": [
    "### Iterators"
   ]
  },
  {
   "cell_type": "code",
   "execution_count": 1,
   "metadata": {},
   "outputs": [],
   "source": [
    "lst = [1,2,3]\n",
    "d = {\"a\":1, \"b\":2, 'c':3}\n",
    "s = 'abcdef'"
   ]
  },
  {
   "cell_type": "code",
   "execution_count": null,
   "metadata": {},
   "outputs": [],
   "source": [
    "for i .."
   ]
  },
  {
   "cell_type": "code",
   "execution_count": 15,
   "metadata": {},
   "outputs": [],
   "source": [
    "iterator = iter(lst)"
   ]
  },
  {
   "cell_type": "code",
   "execution_count": 16,
   "metadata": {},
   "outputs": [
    {
     "data": {
      "text/plain": [
       "1"
      ]
     },
     "execution_count": 16,
     "metadata": {},
     "output_type": "execute_result"
    }
   ],
   "source": [
    "next(iterator)"
   ]
  },
  {
   "cell_type": "markdown",
   "metadata": {},
   "source": [
    "то же самое для вышеупомянутых объектов"
   ]
  },
  {
   "cell_type": "code",
   "execution_count": 17,
   "metadata": {},
   "outputs": [],
   "source": [
    "# как выглядить итератор внутри цикла\n",
    "\n",
    "it = iter(lst)\n",
    "while True: \n",
    "    try: \n",
    "        next(it)\n",
    "    except StopIteration: \n",
    "        break "
   ]
  },
  {
   "cell_type": "code",
   "execution_count": null,
   "metadata": {},
   "outputs": [],
   "source": [
    "class RandomIt:\n",
    "    pass\n",
    "\n",
    "# ожидаемое поведение \n",
    "a = RandomIT()\n",
    "print(next(a)) # случайное число от 0 до 1"
   ]
  },
  {
   "cell_type": "code",
   "execution_count": null,
   "metadata": {},
   "outputs": [],
   "source": [
    "from random import random \n",
    "\n",
    "class RandomIt:\n",
    "    def __next__(self):\n",
    "        return 0`"
   ]
  },
  {
   "cell_type": "code",
   "execution_count": null,
   "metadata": {},
   "outputs": [],
   "source": [
    "# добавим определенное количество возвращаемых чисел\n",
    "from random import random \n",
    "\n",
    "class RandomIt:\n",
    "    def __init__(self):\n",
    "        pass\n",
    "    def __next__(self):\n",
    "        if .. \n",
    "        return 0`"
   ]
  },
  {
   "cell_type": "code",
   "execution_count": 18,
   "metadata": {},
   "outputs": [],
   "source": [
    "# определим двойной итератор\n",
    "class Double:\n",
    "    def __init__(self, lst):\n",
    "        self.i = 0\n",
    "        self.lst = lst\n",
    "    def __next__(self):\n",
    "        if self.i < len(self.lst):\n",
    "            self.i += 2\n",
    "            return self.lst[self.i-2], self.lst[self.i-1]\n",
    "        else:\n",
    "            raise StopIteration\n",
    "class MyList(list):\n",
    "    def __iter__(self):\n",
    "        return Double(self)"
   ]
  },
  {
   "cell_type": "code",
   "execution_count": 19,
   "metadata": {},
   "outputs": [
    {
     "name": "stdout",
     "output_type": "stream",
     "text": [
      "(1, 2)\n",
      "(3, 4)\n"
     ]
    }
   ],
   "source": [
    "l = MyList([1,2,3,4])\n",
    "for i in l:\n",
    "    print(i)"
   ]
  },
  {
   "cell_type": "markdown",
   "metadata": {},
   "source": [
    "### Генераторы\n",
    "функция исполняется до yeild, а при следующем вызове на том месте где остановились."
   ]
  },
  {
   "cell_type": "code",
   "execution_count": 25,
   "metadata": {},
   "outputs": [],
   "source": [
    "def random_gen(k):\n",
    "    for i in range(k):\n",
    "        yield random()"
   ]
  },
  {
   "cell_type": "code",
   "execution_count": null,
   "metadata": {},
   "outputs": [],
   "source": [
    "from random import random\n",
    "for i in random_gen(10):\n",
    "    print(i)"
   ]
  },
  {
   "cell_type": "code",
   "execution_count": 45,
   "metadata": {},
   "outputs": [],
   "source": [
    "# много yeild \n",
    "\n",
    "def foo():\n",
    "    print(1)\n",
    "    yield 'один'\n",
    "    #return 'ff'\n",
    "    print(2)\n",
    "    yield 'два'"
   ]
  },
  {
   "cell_type": "code",
   "execution_count": 44,
   "metadata": {},
   "outputs": [],
   "source": [
    "f = foo()"
   ]
  },
  {
   "cell_type": "code",
   "execution_count": 46,
   "metadata": {},
   "outputs": [
    {
     "name": "stdout",
     "output_type": "stream",
     "text": [
      "1\n"
     ]
    },
    {
     "data": {
      "text/plain": [
       "'один'"
      ]
     },
     "execution_count": 46,
     "metadata": {},
     "output_type": "execute_result"
    }
   ],
   "source": [
    "next(f)"
   ]
  },
  {
   "cell_type": "markdown",
   "metadata": {},
   "source": [
    "### Decorators\n",
    "\n",
    "---\n",
    "Декоратор по сути \"обертка\" над функцией, которая позволяет, не меняя кода, изменить поведение функции. <br>\n",
    "Главное, что нужно помнить, что функция суть тоже объект, который мы можем передать дальше (к примеру в другую функцию). <br>\n",
    "Для упрощения синтаксиса, есть специальный язык декораторов (вызов функции через @). "
   ]
  },
  {
   "cell_type": "code",
   "execution_count": 40,
   "metadata": {},
   "outputs": [],
   "source": [
    "def decor(func): \n",
    "    def wrapper():\n",
    "        print('это то, что над функцией')\n",
    "        func()\n",
    "        print('это то, что печатается после функции')\n",
    "    return wrapper\n",
    "\n",
    "def foo():\n",
    "    print('Привет, мир.')"
   ]
  },
  {
   "cell_type": "code",
   "execution_count": 41,
   "metadata": {},
   "outputs": [],
   "source": [
    "d = decor(foo)"
   ]
  },
  {
   "cell_type": "code",
   "execution_count": 44,
   "metadata": {},
   "outputs": [],
   "source": [
    "@decor\n",
    "def foo():\n",
    "    print( 'Привет, мир.')"
   ]
  },
  {
   "cell_type": "code",
   "execution_count": 45,
   "metadata": {},
   "outputs": [
    {
     "name": "stdout",
     "output_type": "stream",
     "text": [
      "это то, что над функцией\n",
      "Привет, мир.\n",
      "это то, что печатается после функции\n"
     ]
    }
   ],
   "source": [
    "foo()"
   ]
  },
  {
   "cell_type": "markdown",
   "metadata": {},
   "source": [
    "### Передача аргументов функции в декоратор"
   ]
  },
  {
   "cell_type": "code",
   "execution_count": 50,
   "metadata": {},
   "outputs": [],
   "source": [
    "def decor(func):\n",
    "    def wrapper(*args, **kwargs):\n",
    "        print('я получил аргументы:', args, kwargs)\n",
    "        func(*args, **kwargs)\n",
    "    return wrapper"
   ]
  },
  {
   "cell_type": "code",
   "execution_count": 51,
   "metadata": {},
   "outputs": [],
   "source": [
    "@decor\n",
    "def foo(name=None):\n",
    "    print('Привет!', name)"
   ]
  },
  {
   "cell_type": "code",
   "execution_count": 53,
   "metadata": {},
   "outputs": [
    {
     "name": "stdout",
     "output_type": "stream",
     "text": [
      "я получил аргументы: ('hel',) {}\n",
      "Привет! hel\n"
     ]
    }
   ],
   "source": [
    "foo('hel')"
   ]
  },
  {
   "cell_type": "markdown",
   "metadata": {},
   "source": [
    "<span style='font-size:17px;'>[further reading....](https://pythonworld.ru/osnovy/dekoratory.html) </span>\n"
   ]
  },
  {
   "cell_type": "markdown",
   "metadata": {},
   "source": [
    "### Exeptions handling"
   ]
  },
  {
   "cell_type": "code",
   "execution_count": 54,
   "metadata": {},
   "outputs": [],
   "source": [
    "d  = {'a':1, 'b':2, 'c':3, 'z':28}"
   ]
  },
  {
   "cell_type": "code",
   "execution_count": null,
   "metadata": {},
   "outputs": [],
   "source": [
    "# try it\n",
    "for i in ['a', 'b', 'c', 'd']:\n",
    "    print(d[i])"
   ]
  },
  {
   "cell_type": "code",
   "execution_count": null,
   "metadata": {},
   "outputs": [],
   "source": [
    "# try it\n",
    "for i in [1,2,3,4,0]:\n",
    "    print(5/i) "
   ]
  },
  {
   "cell_type": "code",
   "execution_count": null,
   "metadata": {},
   "outputs": [],
   "source": [
    "# try it\n",
    "import sixx"
   ]
  },
  {
   "cell_type": "markdown",
   "metadata": {},
   "source": [
    "<span style='font-size:16px;'>Exeption object</span> \n",
    "```python\n",
    "class B(Exception):\n",
    "    pass\n",
    "\n",
    "class C(B):\n",
    "    pass\n",
    "\n",
    "class D(C):\n",
    "    pass\n",
    "```"
   ]
  },
  {
   "cell_type": "code",
   "execution_count": 64,
   "metadata": {},
   "outputs": [
    {
     "name": "stdout",
     "output_type": "stream",
     "text": [
      "нельзя делить на ноль\n"
     ]
    }
   ],
   "source": [
    "for i in (1,2,3,0):\n",
    "    try:\n",
    "        5/i\n",
    "    except ZeroDivisionError: # также можо задавать нельколько классов ошибок (ZeroDivisionError, SyntaxError)\n",
    "        print('нельзя делить на ноль')\n",
    "        "
   ]
  },
  {
   "cell_type": "markdown",
   "metadata": {},
   "source": [
    "### raise / assert \n",
    "- работа с исключениями \n",
    "- более удобный оператор"
   ]
  },
  {
   "cell_type": "code",
   "execution_count": null,
   "metadata": {},
   "outputs": [],
   "source": [
    "for i in [1,2,3,5]:\n",
    "    if i == 5:\n",
    "        raise Exception('...')\n",
    "    else: \n",
    "        print(5/i)"
   ]
  },
  {
   "cell_type": "code",
   "execution_count": null,
   "metadata": {},
   "outputs": [],
   "source": [
    "for i in [1,2,3, 'a']:\n",
    "    assert isinstance(i, str) == False\n",
    "    print(i)"
   ]
  },
  {
   "cell_type": "markdown",
   "metadata": {},
   "source": [
    "### exec / eval"
   ]
  },
  {
   "cell_type": "code",
   "execution_count": null,
   "metadata": {},
   "outputs": [],
   "source": []
  },
  {
   "cell_type": "markdown",
   "metadata": {},
   "source": [
    "[small reading](https://stackoverflow.com/questions/2220699/whats-the-difference-between-eval-exec-and-compile)"
   ]
  },
  {
   "cell_type": "markdown",
   "metadata": {},
   "source": [
    "## Problems: \n"
   ]
  },
  {
   "cell_type": "markdown",
   "metadata": {},
   "source": [
    "### 1. try / except\n",
    "\n",
    "Вашей программе будет доступна функция foo, которая может бросать исключения.\n",
    "\n",
    "Вам необходимо написать код, который запускает эту функцию, затем ловит исключения ArithmeticError, AssertionError, ZeroDivisionError и выводит имя пойманного исключения.\n",
    "\n",
    "Пример решения, которое вы должны отправить на проверку.\n",
    "```python\n",
    "try:\n",
    "    foo()\n",
    "except Exception:\n",
    "    print(\"Exception\")\n",
    "except BaseException:\n",
    "    print(\"BaseException\")\n",
    "```"
   ]
  },
  {
   "cell_type": "markdown",
   "metadata": {},
   "source": [
    "#### 2. генераторы\n",
    "\n",
    "\n",
    "\n",
    "Целое положительное число называется простым, если оно имеет ровно два различных делителя, то есть делится только на единицу и на само себя.\n",
    "Например, число 2 является простым, так как делится только на 1 и 2. Также простыми являются, например, числа 3, 5, 31, и еще бесконечно много чисел.\n",
    "Число 4, например, не является простым, так как имеет три делителя – 1, 2, 4. Также простым не является число 1, так как оно имеет ровно один делитель – 1.\n",
    "\n",
    "Реализуйте функцию-генератор primes, которая будет генерировать простые числа в порядке возрастания, начиная с числа 2.\n",
    "\n",
    "Пример использования:\n",
    "```python\n",
    "print(list(itertools.takewhile(lambda x : x <= 31, primes())))\n",
    "# [2, 3, 5, 7, 11, 13, 17, 19, 23, 29, 31]\n",
    "```\n",
    "\n"
   ]
  }
 ],
 "metadata": {
  "kernelspec": {
   "display_name": "Python 3",
   "language": "python",
   "name": "python3"
  },
  "language_info": {
   "codemirror_mode": {
    "name": "ipython",
    "version": 3
   },
   "file_extension": ".py",
   "mimetype": "text/x-python",
   "name": "python",
   "nbconvert_exporter": "python",
   "pygments_lexer": "ipython3",
   "version": "3.7.5"
  }
 },
 "nbformat": 4,
 "nbformat_minor": 4
}
